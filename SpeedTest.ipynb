{
 "cells": [
  {
   "cell_type": "markdown",
   "metadata": {},
   "source": [
    "## Import necessary libraries"
   ]
  },
  {
   "cell_type": "code",
   "execution_count": 1,
   "metadata": {},
   "outputs": [
    {
     "name": "stderr",
     "output_type": "stream",
     "text": [
      "/usr/local/lib/python3.6/dist-packages/h5py/__init__.py:36: FutureWarning: Conversion of the second argument of issubdtype from `float` to `np.floating` is deprecated. In future, it will be treated as `np.float64 == np.dtype(float).type`.\n",
      "  from ._conv import register_converters as _register_converters\n",
      "Using TensorFlow backend.\n"
     ]
    }
   ],
   "source": [
    "from __future__ import print_function\n",
    "import keras\n",
    "from khaled_utils import plot_history, TimeHistory\n",
    "from keras.datasets import mnist\n",
    "from keras.models import Sequential\n",
    "from keras.layers import Dense, Dropout, Flatten\n",
    "from keras.layers import Conv2D, MaxPooling2D\n",
    "from keras import backend as K\n",
    "import matplotlib.pyplot as plt\n",
    "import numpy as np\n",
    "import time"
   ]
  },
  {
   "cell_type": "markdown",
   "metadata": {},
   "source": [
    "## Build the model"
   ]
  },
  {
   "cell_type": "code",
   "execution_count": 2,
   "metadata": {},
   "outputs": [
    {
     "name": "stdout",
     "output_type": "stream",
     "text": [
      "x_train shape: (60000, 28, 28, 1)\n",
      "60000 train samples\n",
      "10000 test samples\n",
      "_________________________________________________________________\n",
      "Layer (type)                 Output Shape              Param #   \n",
      "=================================================================\n",
      "conv2d_1 (Conv2D)            (None, 26, 26, 32)        320       \n",
      "_________________________________________________________________\n",
      "conv2d_2 (Conv2D)            (None, 24, 24, 64)        18496     \n",
      "_________________________________________________________________\n",
      "max_pooling2d_1 (MaxPooling2 (None, 12, 12, 64)        0         \n",
      "_________________________________________________________________\n",
      "dropout_1 (Dropout)          (None, 12, 12, 64)        0         \n",
      "_________________________________________________________________\n",
      "conv2d_3 (Conv2D)            (None, 10, 10, 64)        36928     \n",
      "_________________________________________________________________\n",
      "max_pooling2d_2 (MaxPooling2 (None, 5, 5, 64)          0         \n",
      "_________________________________________________________________\n",
      "dropout_2 (Dropout)          (None, 5, 5, 64)          0         \n",
      "_________________________________________________________________\n",
      "flatten_1 (Flatten)          (None, 1600)              0         \n",
      "_________________________________________________________________\n",
      "dense_1 (Dense)              (None, 128)               204928    \n",
      "_________________________________________________________________\n",
      "dropout_3 (Dropout)          (None, 128)               0         \n",
      "_________________________________________________________________\n",
      "dense_2 (Dense)              (None, 10)                1290      \n",
      "=================================================================\n",
      "Total params: 261,962\n",
      "Trainable params: 261,962\n",
      "Non-trainable params: 0\n",
      "_________________________________________________________________\n"
     ]
    }
   ],
   "source": [
    "batch_size = 128\n",
    "num_classes = 10\n",
    "epochs = 12\n",
    "\n",
    "# input image dimensions\n",
    "img_rows, img_cols = 28, 28\n",
    "\n",
    "# the data, shuffled and split between train and test sets\n",
    "(x_train, y_train), (x_test, y_test) = mnist.load_data()\n",
    "\n",
    "if K.image_data_format() == 'channels_first':\n",
    "    x_train = x_train.reshape(x_train.shape[0], 1, img_rows, img_cols)\n",
    "    x_test = x_test.reshape(x_test.shape[0], 1, img_rows, img_cols)\n",
    "    input_shape = (1, img_rows, img_cols)\n",
    "else:\n",
    "    x_train = x_train.reshape(x_train.shape[0], img_rows, img_cols, 1)\n",
    "    x_test = x_test.reshape(x_test.shape[0], img_rows, img_cols, 1)\n",
    "    input_shape = (img_rows, img_cols, 1)\n",
    "\n",
    "x_train = x_train.astype('float32')\n",
    "x_test = x_test.astype('float32')\n",
    "x_train /= 255\n",
    "x_test /= 255\n",
    "print('x_train shape:', x_train.shape)\n",
    "print(x_train.shape[0], 'train samples')\n",
    "print(x_test.shape[0], 'test samples')\n",
    "\n",
    "# convert class vectors to binary class matrices\n",
    "y_train = keras.utils.to_categorical(y_train, num_classes)\n",
    "y_test = keras.utils.to_categorical(y_test, num_classes)\n",
    "\n",
    "model = Sequential()\n",
    "model.add(Conv2D(32, kernel_size=(3, 3), activation='relu',input_shape=input_shape))\n",
    "model.add(Conv2D(64, (3, 3), activation='relu'))\n",
    "model.add(MaxPooling2D(pool_size=(2, 2)))\n",
    "model.add(Dropout(0.25))\n",
    "model.add(Conv2D(64, (3, 3), activation='relu'))\n",
    "model.add(MaxPooling2D(pool_size=(2, 2)))\n",
    "model.add(Dropout(0.25))\n",
    "model.add(Flatten())\n",
    "model.add(Dense(128, activation='relu'))\n",
    "model.add(Dropout(0.5))\n",
    "model.add(Dense(num_classes, activation='softmax'))\n",
    "\n",
    "model.compile(loss=keras.losses.categorical_crossentropy,\n",
    "              optimizer=keras.optimizers.Adadelta(),\n",
    "              metrics=['accuracy'])\n",
    "\n",
    "model.summary()"
   ]
  },
  {
   "cell_type": "markdown",
   "metadata": {},
   "source": [
    "## Time Callback"
   ]
  },
  {
   "cell_type": "code",
   "execution_count": 3,
   "metadata": {},
   "outputs": [],
   "source": [
    "class TimeHistory(keras.callbacks.Callback):\n",
    "    def on_train_begin(self, logs={}):\n",
    "        self.times = []\n",
    "\n",
    "    def on_epoch_begin(self, batch, logs={}):\n",
    "        self.epoch_time_start = time.time()\n",
    "\n",
    "    def on_epoch_end(self, batch, logs={}):\n",
    "        self.times.append(time.time() - self.epoch_time_start)\n",
    "    \n",
    "time_callback = TimeHistory()"
   ]
  },
  {
   "cell_type": "markdown",
   "metadata": {},
   "source": [
    "## History Callback"
   ]
  },
  {
   "cell_type": "markdown",
   "metadata": {},
   "source": [
    "#### It's the same object returned by: `history = model.fit(...)`"
   ]
  },
  {
   "cell_type": "code",
   "execution_count": 4,
   "metadata": {},
   "outputs": [],
   "source": [
    "from keras.callbacks import History\n",
    "history = History()"
   ]
  },
  {
   "cell_type": "markdown",
   "metadata": {},
   "source": [
    "## ModelCheckpoint Callback"
   ]
  },
  {
   "cell_type": "code",
   "execution_count": 5,
   "metadata": {},
   "outputs": [],
   "source": [
    "from keras.callbacks import ModelCheckpoint\n",
    "filepath=\"weights-improvement-{epoch:02d}-{val_acc:.2f}.hdf5\"\n",
    "checkpoint = ModelCheckpoint(filepath, monitor='val_acc', verbose=1, save_best_only=True, mode='max')"
   ]
  },
  {
   "cell_type": "markdown",
   "metadata": {},
   "source": [
    "## TensorBoard Callback\n",
    "### To run TensorBorad, run:\n",
    "#### `$ tensorboard --logdir=/root/ipython/logs/`\n",
    "#### `$ docker exec -it khaled_container tensorboard --logdir=/root/ipython/logs/ --port=16006`"
   ]
  },
  {
   "cell_type": "code",
   "execution_count": 6,
   "metadata": {},
   "outputs": [],
   "source": [
    "from keras.callbacks import TensorBoard\n",
    "from time import strftime\n",
    "tensorboard = TensorBoard(log_dir=\"logs/{}\".format(strftime('%Y_%m_%d_%H_%M_%S')))"
   ]
  },
  {
   "cell_type": "markdown",
   "metadata": {},
   "source": [
    "## Limit GPU usage"
   ]
  },
  {
   "cell_type": "code",
   "execution_count": 7,
   "metadata": {},
   "outputs": [],
   "source": [
    "import tensorflow as tf\n",
    "from keras.backend.tensorflow_backend import set_session\n",
    "config = tf.ConfigProto()\n",
    "config.gpu_options.per_process_gpu_memory_fraction = 0.1\n",
    "set_session(tf.Session(config=config))"
   ]
  },
  {
   "cell_type": "markdown",
   "metadata": {},
   "source": [
    "## Train the model"
   ]
  },
  {
   "cell_type": "code",
   "execution_count": 8,
   "metadata": {},
   "outputs": [
    {
     "name": "stdout",
     "output_type": "stream",
     "text": [
      "Train on 60000 samples, validate on 10000 samples\n",
      "Epoch 1/12\n",
      "60000/60000 [==============================] - 8s 132us/step - loss: 0.3075 - acc: 0.9031 - val_loss: 0.0537 - val_acc: 0.9828\n",
      "\n",
      "Epoch 00001: val_acc improved from -inf to 0.98280, saving model to weights-improvement-01-0.98.hdf5\n",
      "Epoch 2/12\n",
      "60000/60000 [==============================] - 6s 97us/step - loss: 0.0962 - acc: 0.9715 - val_loss: 0.0390 - val_acc: 0.9864\n",
      "\n",
      "Epoch 00002: val_acc improved from 0.98280 to 0.98640, saving model to weights-improvement-02-0.99.hdf5\n",
      "Epoch 3/12\n",
      "60000/60000 [==============================] - 6s 99us/step - loss: 0.0723 - acc: 0.9779 - val_loss: 0.0315 - val_acc: 0.9880\n",
      "\n",
      "Epoch 00003: val_acc improved from 0.98640 to 0.98800, saving model to weights-improvement-03-0.99.hdf5\n",
      "Epoch 4/12\n",
      "60000/60000 [==============================] - 6s 98us/step - loss: 0.0620 - acc: 0.9812 - val_loss: 0.0261 - val_acc: 0.9919\n",
      "\n",
      "Epoch 00004: val_acc improved from 0.98800 to 0.99190, saving model to weights-improvement-04-0.99.hdf5\n",
      "Epoch 5/12\n",
      "60000/60000 [==============================] - 6s 102us/step - loss: 0.0525 - acc: 0.9845 - val_loss: 0.0224 - val_acc: 0.9917\n",
      "\n",
      "Epoch 00005: val_acc did not improve from 0.99190\n",
      "Epoch 6/12\n",
      "60000/60000 [==============================] - 6s 101us/step - loss: 0.0472 - acc: 0.9861 - val_loss: 0.0218 - val_acc: 0.9932\n",
      "\n",
      "Epoch 00006: val_acc improved from 0.99190 to 0.99320, saving model to weights-improvement-06-0.99.hdf5\n",
      "Epoch 7/12\n",
      "60000/60000 [==============================] - 6s 100us/step - loss: 0.0427 - acc: 0.9874 - val_loss: 0.0180 - val_acc: 0.9936\n",
      "\n",
      "Epoch 00007: val_acc improved from 0.99320 to 0.99360, saving model to weights-improvement-07-0.99.hdf5\n",
      "Epoch 8/12\n",
      "60000/60000 [==============================] - 6s 98us/step - loss: 0.0407 - acc: 0.9875 - val_loss: 0.0202 - val_acc: 0.9932\n",
      "\n",
      "Epoch 00008: val_acc did not improve from 0.99360\n",
      "Epoch 9/12\n",
      "60000/60000 [==============================] - 6s 100us/step - loss: 0.0385 - acc: 0.9884 - val_loss: 0.0169 - val_acc: 0.9944\n",
      "\n",
      "Epoch 00009: val_acc improved from 0.99360 to 0.99440, saving model to weights-improvement-09-0.99.hdf5\n",
      "Epoch 10/12\n",
      "60000/60000 [==============================] - 6s 99us/step - loss: 0.0347 - acc: 0.9891 - val_loss: 0.0187 - val_acc: 0.9937\n",
      "\n",
      "Epoch 00010: val_acc did not improve from 0.99440\n",
      "Epoch 11/12\n",
      "60000/60000 [==============================] - 6s 100us/step - loss: 0.0324 - acc: 0.9899 - val_loss: 0.0192 - val_acc: 0.9935\n",
      "\n",
      "Epoch 00011: val_acc did not improve from 0.99440\n",
      "Epoch 12/12\n",
      "60000/60000 [==============================] - 6s 100us/step - loss: 0.0297 - acc: 0.9909 - val_loss: 0.0168 - val_acc: 0.9945\n",
      "\n",
      "Epoch 00012: val_acc improved from 0.99440 to 0.99450, saving model to weights-improvement-12-0.99.hdf5\n"
     ]
    },
    {
     "data": {
      "text/plain": [
       "<keras.callbacks.History at 0x7fb09cb35710>"
      ]
     },
     "execution_count": 8,
     "metadata": {},
     "output_type": "execute_result"
    }
   ],
   "source": [
    "model.fit(x_train, y_train,\n",
    "          batch_size=batch_size,\n",
    "          epochs=epochs,\n",
    "          verbose=1,\n",
    "          validation_data=(x_test, y_test),\n",
    "          callbacks=[time_callback,checkpoint,tensorboard, history])"
   ]
  },
  {
   "cell_type": "code",
   "execution_count": 9,
   "metadata": {},
   "outputs": [
    {
     "name": "stdout",
     "output_type": "stream",
     "text": [
      "Test loss: 0.0168 \tTest accuracy: 99.45% \tTime elpased: 73.55 seconds\n"
     ]
    }
   ],
   "source": [
    "print(\"Test loss: {0:.4f} \\tTest accuracy: {1:.2f}% \\tTime elpased: {2:.2f} seconds\".format(\n",
    "    history.history['val_loss'][-1],\n",
    "    history.history['val_acc'][-1]*100,\n",
    "    np.sum(time_callback.times)))"
   ]
  },
  {
   "cell_type": "markdown",
   "metadata": {},
   "source": [
    "## Plot Model"
   ]
  },
  {
   "cell_type": "code",
   "execution_count": 10,
   "metadata": {
    "scrolled": false
   },
   "outputs": [
    {
     "data": {
      "image/png": "[encoded data removed]",
      "text/plain": [
       "<Figure size 1152x288 with 2 Axes>"
      ]
     },
     "metadata": {},
     "output_type": "display_data"
    },
    {
     "name": "stdout",
     "output_type": "stream",
     "text": [
      "Test loss: 0.0168 \tTest accuracy: 99.45%\n"
     ]
    }
   ],
   "source": [
    "def plot_history(history):\n",
    "\tplt.figure(figsize=(16,4))\n",
    "\n",
    "\tplt.subplot(1, 2, 1)\n",
    "\tplt.xlabel('Epochs')\n",
    "\tplt.ylabel('Loss')\n",
    "\tplt.title('Model Loss')\n",
    "\tplt.plot(history.history['loss'])\n",
    "\tplt.plot(history.history['val_loss'])\n",
    "\tplt.legend(['Training', 'Validation'], loc='upper right')\n",
    "\n",
    "\tplt.subplot(1, 2, 2)\n",
    "\tplt.xlabel('Epochs')\n",
    "\tplt.ylabel('Accuracy')\n",
    "\tplt.title('Model Accuracy')\n",
    "\tplt.plot(history.history['acc'])\n",
    "\tplt.plot(history.history['val_acc'])\n",
    "\tplt.legend(['Training', 'Validation'], loc='lower right')\n",
    "\n",
    "\tplt.show()\n",
    "      \n",
    "\tvalidation_accuracy = history.history['val_acc'][-1]\n",
    "\tvalidation_loss = history.history['val_loss'][-1]   \n",
    "\tprint(\"Test loss: {0:.4f} \\tTest accuracy: {1:.2f}%\".format(validation_loss,validation_accuracy*100))\n",
    "\n",
    "plot_history(history)"
   ]
  },
  {
   "cell_type": "markdown",
   "metadata": {},
   "source": [
    "## Load the model from file\n",
    "### The model should be built and compiled before loading the weights from file"
   ]
  },
  {
   "cell_type": "code",
   "execution_count": 11,
   "metadata": {},
   "outputs": [
    {
     "name": "stdout",
     "output_type": "stream",
     "text": [
      "The model has been loaded\n"
     ]
    }
   ],
   "source": [
    "import os\n",
    "filename = 'weights-improvement-12-0.99.hdf5'\n",
    "if os.path.isfile(filename):\n",
    "    model.load_weights(filename)\n",
    "    print (\"The model has been loaded\")\n",
    "else:\n",
    "    print (\"%s does not exist\"%filename)"
   ]
  },
  {
   "cell_type": "markdown",
   "metadata": {},
   "source": [
    "## Delete model & Clear session"
   ]
  },
  {
   "cell_type": "code",
   "execution_count": 12,
   "metadata": {},
   "outputs": [],
   "source": [
    "# del model\n",
    "# K.clear_session()"
   ]
  }
 ],
 "metadata": {
  "kernelspec": {
   "display_name": "Python 3",
   "language": "python",
   "name": "python3"
  },
  "language_info": {
   "codemirror_mode": {
    "name": "ipython",
    "version": 3
   },
   "file_extension": ".py",
   "mimetype": "text/x-python",
   "name": "python",
   "nbconvert_exporter": "python",
   "pygments_lexer": "ipython3",
   "version": "3.6.3"
  }
 },
 "nbformat": 4,
 "nbformat_minor": 2
}
